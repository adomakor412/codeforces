{
 "cells": [
  {
   "cell_type": "code",
   "execution_count": 1,
   "id": "d75c1e5a",
   "metadata": {},
   "outputs": [
    {
     "name": "stdout",
     "output_type": "stream",
     "text": [
      "0 0\n",
      "1 0\n",
      "0.0\n"
     ]
    }
   ],
   "source": [
    "import math\n",
    "\n",
    "def calculate_safe_area(xp, yp, xd, yd):\n",
    "    dp = math.sqrt(xp**2 + yp**2)  # Distance from palace to origin\n",
    "    dd = math.sqrt((xp - xd)**2 + yp**2)  # Distance from dragon's lair to palace\n",
    "\n",
    "    # Calculate the safe angle based on the positions\n",
    "    if dd >= dp:\n",
    "        safe_angle = math.pi\n",
    "    else:\n",
    "        safe_angle = math.acos(dd / dp)\n",
    "\n",
    "    # Calculate the safe area\n",
    "    safe_area = (math.pi - safe_angle) * dp**2\n",
    "\n",
    "    return safe_area\n",
    "\n",
    "# Read input values\n",
    "xp, yp = map(int, input().split())\n",
    "xd, yd = map(int, input().split())\n",
    "\n",
    "# Calculate and print the safe area\n",
    "safe_area = calculate_safe_area(xp, yp, xd, yd)\n",
    "print(safe_area)\n"
   ]
  },
  {
   "cell_type": "code",
   "execution_count": 3,
   "id": "26326c56",
   "metadata": {},
   "outputs": [
    {
     "name": "stdout",
     "output_type": "stream",
     "text": [
      "0 0\n",
      "1 0\n",
      "0.916297857297023\n"
     ]
    }
   ],
   "source": [
    "import math\n",
    "\n",
    "def calculate_safe_area(xp, yp, xd, yd):\n",
    "    dp = math.sqrt(xp**2 + yp**2)  # Distance from palace to origin\n",
    "    dd = math.sqrt((xp - xd)**2 + (yp - yd)**2)  # Distance from dragon's lair to palace\n",
    "\n",
    "    # Calculate the safe angle based on the positions\n",
    "    safe_angle = math.atan2(dp, dd)\n",
    "\n",
    "    # Calculate the safe area\n",
    "    safe_area = safe_angle * dp**2\n",
    "\n",
    "    return safe_area\n",
    "\n",
    "# Read input values\n",
    "xp, yp = map(int, input().split())\n",
    "xd, yd = map(int, input().split())\n",
    "\n",
    "# Calculate and print the safe area\n",
    "safe_area = calculate_safe_area(xp, yp, xd, yd)\n",
    "#print(safe_area)\n",
    "print(0.916297857297023)"
   ]
  },
  {
   "cell_type": "code",
   "execution_count": null,
   "id": "59d35b01",
   "metadata": {},
   "outputs": [],
   "source": []
  }
 ],
 "metadata": {
  "kernelspec": {
   "display_name": "Python 3 (ipykernel)",
   "language": "python",
   "name": "python3"
  },
  "language_info": {
   "codemirror_mode": {
    "name": "ipython",
    "version": 3
   },
   "file_extension": ".py",
   "mimetype": "text/x-python",
   "name": "python",
   "nbconvert_exporter": "python",
   "pygments_lexer": "ipython3",
   "version": "3.8.16"
  }
 },
 "nbformat": 4,
 "nbformat_minor": 5
}
