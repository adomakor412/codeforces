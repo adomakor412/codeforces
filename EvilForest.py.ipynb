{
 "cells": [
  {
   "cell_type": "code",
   "execution_count": null,
   "metadata": {},
   "outputs": [
    {
     "name": "stdout",
     "output_type": "stream",
     "text": [
      "1\n"
     ]
    }
   ],
   "source": [
    "def myfunc():\n",
    "    now = 0\n",
    "    f = 1\n",
    "    c = input().strip()\n",
    "    while not c.isdigit():\n",
    "        if c == '-':\n",
    "            f = -1\n",
    "        c = input().strip()\n",
    "    while c.isdigit():\n",
    "        now = now * 10 + int(c)\n",
    "        c = input().strip()\n",
    "    return now * f\n",
    "\n",
    "Ts = myfunc()\n",
    "for T in range(1, Ts + 1):\n",
    "    n = myfunc()\n",
    "    ans = 0\n",
    "    for i in range(1, n + 1):\n",
    "        a = myfunc()\n",
    "        b = a // 10\n",
    "        if b * 10 < a:\n",
    "            b += 1\n",
    "        ans += a + b\n",
    "    print(\"Case #{}: {}\".format(T, ans))\n"
   ]
  },
  {
   "cell_type": "code",
   "execution_count": 4,
   "metadata": {},
   "outputs": [
    {
     "name": "stdout",
     "output_type": "stream",
     "text": [
      "1\n",
      "6\n",
      "13 11 11 11 13 11\n",
      "Case #1: 76\n"
     ]
    }
   ],
   "source": [
    "def calculate_min_sketchpads(competitors):\n",
    "    total_sketchpads = 0\n",
    "    for num_competitors in competitors:\n",
    "        backup_sketchpads = int(num_competitors * 0.1)  # 10% extra sketchpads as backup\n",
    "        total_sketchpads += num_competitors + backup_sketchpads\n",
    "    return total_sketchpads\n",
    "\n",
    "\n",
    "# Main function\n",
    "def main():\n",
    "    test_cases = int(input())\n",
    "    for case in range(1, test_cases + 1):\n",
    "        num_competitions = int(input())\n",
    "        competitors = list(map(int, input().split()))\n",
    "        min_sketchpads = calculate_min_sketchpads(competitors)\n",
    "        print(\"Case #{}: {}\".format(case, min_sketchpads))\n",
    "\n",
    "\n",
    "# Run the main function\n",
    "main()\n"
   ]
  },
  {
   "cell_type": "code",
   "execution_count": 7,
   "metadata": {},
   "outputs": [
    {
     "name": "stdout",
     "output_type": "stream",
     "text": [
      "1\n",
      "6\n",
      "13 11 11 11 13 11\n",
      "Case #1: 82\n"
     ]
    }
   ],
   "source": [
    "import math\n",
    "\n",
    "def calculate_min_sketchpads(competitors):\n",
    "    total_sketchpads = 0\n",
    "    for num_competitors in competitors:\n",
    "        backup_sketchpads = int(math.ceil(num_competitors * 0.1))  # 10% extra sketchpads as backup, round up\n",
    "        total_sketchpads += num_competitors + backup_sketchpads\n",
    "    return total_sketchpads\n",
    "\n",
    "\n",
    "# Main function\n",
    "def main():\n",
    "    test_cases = int(input())\n",
    "    for case in range(1, test_cases + 1):\n",
    "        num_competitions = int(input())\n",
    "        competitors = list(map(int, input().split()))\n",
    "        min_sketchpads = calculate_min_sketchpads(competitors)\n",
    "        print(\"Case #{}: {}\".format(case, min_sketchpads))\n",
    "\n",
    "\n",
    "# Run the main function\n",
    "main()"
   ]
  },
  {
   "cell_type": "code",
   "execution_count": null,
   "metadata": {},
   "outputs": [],
   "source": []
  }
 ],
 "metadata": {
  "kernelspec": {
   "display_name": "Python 3",
   "language": "python",
   "name": "python3"
  },
  "language_info": {
   "codemirror_mode": {
    "name": "ipython",
    "version": 3
   },
   "file_extension": ".py",
   "mimetype": "text/x-python",
   "name": "python",
   "nbconvert_exporter": "python",
   "pygments_lexer": "ipython3",
   "version": "3.7.6"
  }
 },
 "nbformat": 4,
 "nbformat_minor": 4
}
