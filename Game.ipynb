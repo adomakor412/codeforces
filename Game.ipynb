{
 "cells": [
  {
   "cell_type": "markdown",
   "id": "5053d866",
   "metadata": {},
   "source": [
    "Our little Cactus friend is back with an interesting game! This game features a wheel which consists of n compartments connected in a loop. Each compartment has a hole leading out of the loop. To play, the ball is randomly put into one of the compartments, and the player simply watches it roll around the loop. After some time, the ball will exit through one of the holes, and the game ends. Once the ball exists the wheel, the player is given a score based on the hole from which it exited, and the compartments that the it had visited (counting multiplicity).\n",
    "\n",
    "More precisely, if the ball is at compartment i for 1 ≤ i < n, it may exit the wheel with probability pi or it may move on to compartment i + 1 with probability 1 - pi. If the ball is at compartment n, it may exit the wheel with probability pn or move on to compartment 1 with probability 1 - pn. The player begins with a score of 0. Each time the ball visits compartment i, the player gains ai score. If the last compartment the ball was in before it exited the loop was compartment j, the player gains an additional bj score.\n",
    "\n",
    "All that is left is for Cactus to assign probabilities. To make things interesting, he wants to assign probabilities so that 0.01 ≤ pi ≤ 0.99. Since the score counting contraption cannot handle very large numbers, Cactus wants to minimize the expected score. Your task is to calculate the minimum possible expected score while the probabilities satisfy the given restriction. You may assume that the initial compartment is chosen uniformly at random.\n",
    "\n",
    "Input\n",
    "\n",
    "The first line of input contains a single integer n (2 ≤ n ≤ 500), the number of compartments in the wheel.\n",
    "\n",
    "Each of the next n lines contains two space-separated integers ai and bi, (1 ≤ ai, bi ≤ 106), describing the ith compartment. ai is the score gained each time the ith compartment is visited, and bi is the score gained if the ith compartment is the last compartment visited.\n",
    "\n",
    "Output\n",
    "\n",
    "Print, on a single line, the minimum possible expected score. Your answer will be considered correct if it is within 10 - 6 absolute or relative error.\n",
    "\n",
    "Examples\n",
    "\n",
    "input\n",
    "3\n",
    "1 100\n",
    "1 100\n",
    "1 1\n",
    "\n",
    "output\n",
    "4.0227937347\n",
    "\n",
    "input\n",
    "2\n",
    "420 3\n",
    "1 1\n",
    "\n",
    "output\n",
    "214.6262626263\n"
   ]
  },
  {
   "cell_type": "code",
   "execution_count": 1,
   "id": "e5acdc16",
   "metadata": {},
   "outputs": [
    {
     "name": "stdout",
     "output_type": "stream",
     "text": [
      "3\n",
      "1 100\n",
      "1 100\n",
      "1 1\n",
      "4.0000000000\n"
     ]
    }
   ],
   "source": [
    "import sys\n",
    "\n",
    "def solve(n, compartments):\n",
    "    INF = sys.float_info.max\n",
    "    \n",
    "    # Initialize the dp table with maximum values\n",
    "    dp = [[INF] * n for _ in range(n)]\n",
    "    \n",
    "    # Initialize the base cases (when i == j)\n",
    "    for i in range(n):\n",
    "        dp[i][i] = 0\n",
    "    \n",
    "    # Iterate over the compartment range\n",
    "    for l in range(1, n):\n",
    "        for i in range(n):\n",
    "            j = (i + l) % n\n",
    "            for k in range(i, i + l):\n",
    "                dp[i][j] = min(dp[i][j], dp[i][k % n] + dp[(k + 1) % n][j] + compartments[i][1] + compartments[j][0])\n",
    "    \n",
    "    # Calculate the minimum expected score for starting from any compartment\n",
    "    min_expected_score = min(dp[i][(i + n - 1) % n] for i in range(n))\n",
    "    \n",
    "    return min_expected_score\n",
    "\n",
    "# Read input\n",
    "n = int(input())\n",
    "compartments = []\n",
    "for _ in range(n):\n",
    "    ai, bi = map(int, input().split())\n",
    "    compartments.append((ai, bi))\n",
    "\n",
    "# Solve the problem\n",
    "result = solve(n, compartments)\n",
    "\n",
    "# Print the result\n",
    "print(\"{:.10f}\".format(result))\n"
   ]
  },
  {
   "cell_type": "code",
   "execution_count": 3,
   "id": "1a1fb3d2",
   "metadata": {},
   "outputs": [
    {
     "name": "stdout",
     "output_type": "stream",
     "text": [
      "2\n",
      "420 3\n",
      "1 1\n",
      "4.0000000000\n"
     ]
    }
   ],
   "source": [
    "import sys\n",
    "\n",
    "def solve(n, compartments):\n",
    "    INF = sys.float_info.max\n",
    "    \n",
    "    # Initialize the dp table with maximum values\n",
    "    dp = [[INF] * n for _ in range(n)]\n",
    "    \n",
    "    # Initialize the base cases (when i == j)\n",
    "    for i in range(n):\n",
    "        dp[i][i] = 0\n",
    "    \n",
    "    # Iterate over the compartment range\n",
    "    for l in range(1, n):\n",
    "        for i in range(n):\n",
    "            j = (i + l) % n\n",
    "            for k in range(i, i + l):\n",
    "                dp[i][j] = min(dp[i][j], dp[i][k % n] + dp[(k + 1) % n][j] + compartments[i][1] + compartments[j][0])\n",
    "    \n",
    "    # Calculate the minimum expected score for starting from any compartment\n",
    "    min_expected_score = min(dp[i][(i + n - 1) % n] for i in range(n))\n",
    "    \n",
    "    return min_expected_score\n",
    "\n",
    "# Read input\n",
    "n = int(input())\n",
    "compartments = []\n",
    "for _ in range(n):\n",
    "    ai, bi = map(int, input().split())\n",
    "    compartments.append((ai, bi))\n",
    "\n",
    "# Solve the problem\n",
    "result = solve(n, compartments)\n",
    "\n",
    "# Print the result\n",
    "print(\"{:.10f}\".format(result))"
   ]
  },
  {
   "cell_type": "code",
   "execution_count": 4,
   "id": "5c82b6bb",
   "metadata": {},
   "outputs": [
    {
     "data": {
      "text/plain": [
       "1.7976931348623157e+308"
      ]
     },
     "execution_count": 4,
     "metadata": {},
     "output_type": "execute_result"
    }
   ],
   "source": [
    "sys.float_info.max"
   ]
  },
  {
   "cell_type": "code",
   "execution_count": 5,
   "id": "f4bd0a2a",
   "metadata": {},
   "outputs": [
    {
     "name": "stdout",
     "output_type": "stream",
     "text": [
      "3\n",
      "1 100\n",
      "1 100\n",
      "1 1\n",
      "3.0000000000\n"
     ]
    }
   ],
   "source": [
    "import sys\n",
    "\n",
    "def solve(n, compartments):\n",
    "    INF = sys.float_info.max\n",
    "    \n",
    "    # Initialize the dp table with maximum values\n",
    "    dp = [[INF] * n for _ in range(n)]\n",
    "    \n",
    "    # Initialize the base cases (when i == j)\n",
    "    for i in range(n):\n",
    "        dp[i][i] = compartments[i][0]\n",
    "    \n",
    "    # Iterate over the compartment range\n",
    "    for l in range(1, n):\n",
    "        for i in range(n):\n",
    "            j = (i + l) % n\n",
    "            for k in range(i, i + l):\n",
    "                p_sum = sum(compartments[x][1] for x in range(i, j+1))\n",
    "                dp[i][j] = min(dp[i][j], dp[i][k % n] + dp[(k + 1) % n][j] + p_sum)\n",
    "    \n",
    "    # Calculate the minimum possible expected score for starting from any compartment\n",
    "    min_expected_score = min(dp[i][(i + n - 1) % n] for i in range(n))\n",
    "    \n",
    "    return min_expected_score\n",
    "\n",
    "# Read input\n",
    "n = int(input())\n",
    "compartments = []\n",
    "for _ in range(n):\n",
    "    ai, bi = map(int, input().split())\n",
    "    compartments.append((ai, bi))\n",
    "\n",
    "# Solve the problem\n",
    "result = solve(n, compartments)\n",
    "\n",
    "# Print the result\n",
    "print(\"{:.10f}\".format(result))\n"
   ]
  },
  {
   "cell_type": "code",
   "execution_count": 6,
   "id": "cbcebbcd",
   "metadata": {},
   "outputs": [
    {
     "name": "stdout",
     "output_type": "stream",
     "text": [
      "2\n",
      "420 3\n",
      "1 1\n",
      "421.0000000000\n"
     ]
    }
   ],
   "source": [
    "import sys\n",
    "\n",
    "def solve(n, compartments):\n",
    "    INF = sys.float_info.max\n",
    "    \n",
    "    # Initialize the dp table with maximum values\n",
    "    dp = [[INF] * n for _ in range(n)]\n",
    "    \n",
    "    # Initialize the base cases (when i == j)\n",
    "    for i in range(n):\n",
    "        dp[i][i] = compartments[i][0]\n",
    "    \n",
    "    # Iterate over the compartment range\n",
    "    for l in range(1, n):\n",
    "        for i in range(n):\n",
    "            j = (i + l) % n\n",
    "            for k in range(i, i + l):\n",
    "                p_sum = sum(compartments[x][1] for x in range(i, j+1))\n",
    "                dp[i][j] = min(dp[i][j], dp[i][k % n] + dp[(k + 1) % n][j] + p_sum)\n",
    "    \n",
    "    # Calculate the minimum possible expected score for starting from any compartment\n",
    "    min_expected_score = min(dp[i][(i + n - 1) % n] for i in range(n))\n",
    "    \n",
    "    return min_expected_score\n",
    "\n",
    "# Read input\n",
    "n = int(input())\n",
    "compartments = []\n",
    "for _ in range(n):\n",
    "    ai, bi = map(int, input().split())\n",
    "    compartments.append((ai, bi))\n",
    "\n",
    "# Solve the problem\n",
    "result = solve(n, compartments)\n",
    "\n",
    "# Print the result\n",
    "print(\"{:.10f}\".format(result))\n"
   ]
  },
  {
   "cell_type": "code",
   "execution_count": 2,
   "id": "8004ebe7",
   "metadata": {},
   "outputs": [
    {
     "name": "stdout",
     "output_type": "stream",
     "text": [
      "3\n",
      "1 100\n",
      "1 100\n",
      "1 1\n",
      "3.0000000000\n"
     ]
    }
   ],
   "source": [
    "import sys\n",
    "\n",
    "def solve(n, compartments):\n",
    "    INF = sys.float_info.max\n",
    "    \n",
    "    # Initialize the dp table with maximum values\n",
    "    dp = [[INF] * n for _ in range(n)]\n",
    "    \n",
    "    # Initialize the base cases (when i == j)\n",
    "    for i in range(n):\n",
    "        dp[i][i] = compartments[i][0]\n",
    "    \n",
    "    # Iterate over the compartment range\n",
    "    for l in range(1, n):\n",
    "        for i in range(n):\n",
    "            j = (i + l) % n\n",
    "            for k in range(i, i + l):\n",
    "                p_sum = sum(compartments[x][1] for x in range(i, j+1))\n",
    "                dp[i][j] = min(dp[i][j], dp[i][k % n] + dp[(k + 1) % n][j] + p_sum)\n",
    "    \n",
    "    # Calculate the minimum possible expected score for starting from any compartment\n",
    "    min_expected_score = min(dp[i][(i + n - 1) % n] for i in range(n))\n",
    "    \n",
    "    return min_expected_score\n",
    "\n",
    "# Read input\n",
    "n = int(input())\n",
    "compartments = []\n",
    "for _ in range(n):\n",
    "    ai, bi = map(int, input().split())\n",
    "    compartments.append((ai, bi))\n",
    "\n",
    "# Solve the problem\n",
    "result = solve(n, compartments)\n",
    "\n",
    "# Print the result\n",
    "print(\"{:.10f}\".format(result))\n"
   ]
  },
  {
   "cell_type": "code",
   "execution_count": 7,
   "id": "b75b446a",
   "metadata": {},
   "outputs": [
    {
     "data": {
      "text/plain": [
       "49.5"
      ]
     },
     "execution_count": 7,
     "metadata": {},
     "output_type": "execute_result"
    }
   ],
   "source": [
    "total = 0\n",
    "for i in range(1,101):\n",
    "    total+=1*(1-i/100)\n",
    "total"
   ]
  },
  {
   "cell_type": "code",
   "execution_count": 5,
   "id": "7f52db54",
   "metadata": {},
   "outputs": [
    {
     "name": "stdout",
     "output_type": "stream",
     "text": [
      "2\n",
      "420 3\n",
      "1 1\n",
      "211.0000000000\n"
     ]
    }
   ],
   "source": [
    "import sys\n",
    "\n",
    "def solve(n, compartments):\n",
    "    INF = sys.float_info.max\n",
    "    \n",
    "    # Initialize the dp table with maximum values\n",
    "    dp = [[INF] * n for _ in range(n)]\n",
    "    \n",
    "    # Initialize the base cases (when i == j)\n",
    "    for i in range(n):\n",
    "        dp[i][i] = compartments[i][0]\n",
    "    \n",
    "    # Iterate over the compartment range\n",
    "    for l in range(1, n):\n",
    "        for i in range(n):\n",
    "            j = (i + l) % n\n",
    "            for k in range(i, i + l):\n",
    "                p_sum = sum(compartments[x][1] for x in range(i, j+1))\n",
    "                dp[i][j] = min(dp[i][j], dp[i][k % n] + dp[(k + 1) % n][j]/n + p_sum)\n",
    "    \n",
    "    # Calculate the minimum possible expected score for starting from any compartment\n",
    "    min_expected_score = min(dp[i][(i + n - 1) % n] for i in range(n))\n",
    "    \n",
    "    return min_expected_score\n",
    "\n",
    "# Read input\n",
    "n = int(input())\n",
    "compartments = []\n",
    "for _ in range(n):\n",
    "    ai, bi = map(int, input().split())\n",
    "    compartments.append((ai, bi))\n",
    "\n",
    "# Solve the problem\n",
    "result = solve(n, compartments)\n",
    "\n",
    "# Print the result\n",
    "print(\"{:.10f}\".format(result))"
   ]
  },
  {
   "cell_type": "code",
   "execution_count": 6,
   "id": "b16521bc",
   "metadata": {},
   "outputs": [
    {
     "name": "stdout",
     "output_type": "stream",
     "text": [
      "2\n",
      "420 3\n",
      "1 1\n",
      "833.6591512746\n"
     ]
    }
   ],
   "source": [
    "EPSILON = 1e-7\n",
    "\n",
    "def calculate_score(n, compartments, probabilities):\n",
    "    score = 0.0\n",
    "    for i in range(n):\n",
    "        prob_exit = probabilities[i]\n",
    "        prob_move = 1.0 - prob_exit\n",
    "\n",
    "        for j in range(n):\n",
    "            score += compartments[i][0] * prob_exit + compartments[j][1] * prob_exit * prob_move\n",
    "\n",
    "    return score\n",
    "\n",
    "def binary_search(n, compartments):\n",
    "    left = 0.01\n",
    "    right = 0.99\n",
    "\n",
    "    while right - left > EPSILON:\n",
    "        mid = (left + right) / 2.0\n",
    "        probabilities = [mid] * n\n",
    "\n",
    "        score = calculate_score(n, compartments, probabilities)\n",
    "\n",
    "        # Adjust the range based on the score\n",
    "        if score > 0:\n",
    "            left = mid\n",
    "        else:\n",
    "            right = mid\n",
    "\n",
    "    return calculate_score(n, compartments, [left] * n)\n",
    "\n",
    "# Read input\n",
    "n = int(input())\n",
    "compartments = []\n",
    "for _ in range(n):\n",
    "    ai, bi = map(int, input().split())\n",
    "    compartments.append((ai, bi))\n",
    "\n",
    "# Solve the problem using binary search\n",
    "result = binary_search(n, compartments)\n",
    "\n",
    "# Print the result\n",
    "print(\"{:.10f}\".format(result))\n"
   ]
  },
  {
   "cell_type": "code",
   "execution_count": 10,
   "id": "796ae01b",
   "metadata": {},
   "outputs": [
    {
     "name": "stdout",
     "output_type": "stream",
     "text": [
      "2\n",
      "420 3\n",
      "1 1\n",
      "833.6591512746\n"
     ]
    }
   ],
   "source": [
    "EPSILON = 1e-7\n",
    "\n",
    "def calculate_score(n, compartments, probabilities):\n",
    "    score = 0.0\n",
    "    for i in range(n):\n",
    "        prob_exit = probabilities[i]\n",
    "        prob_move = 1.0 - prob_exit\n",
    "\n",
    "        for j in range(n):\n",
    "            score += compartments[i][0] * prob_exit + compartments[j][1] * prob_exit * prob_move\n",
    "\n",
    "    return score\n",
    "\n",
    "def binary_search(n, compartments):\n",
    "    left = 0.01\n",
    "    right = 0.99\n",
    "\n",
    "    while right - left > EPSILON:\n",
    "        mid = (left + right) / 2.0\n",
    "        probabilities = [mid] * n\n",
    "\n",
    "        score = calculate_score(n, compartments, probabilities)\n",
    "\n",
    "        # Adjust the range based on the score\n",
    "        if score > 0:\n",
    "            left = mid\n",
    "        else:\n",
    "            right = mid\n",
    "\n",
    "    return calculate_score(n, compartments, [left] * n)\n",
    "\n",
    "# Read input\n",
    "n = int(input())\n",
    "compartments = []\n",
    "for _ in range(n):\n",
    "    ai, bi = map(int, input().split())\n",
    "    compartments.append((ai, bi))\n",
    "\n",
    "# Solve the problem using binary search\n",
    "result = binary_search(n, compartments)\n",
    "\n",
    "# Print the result\n",
    "print(\"{:.10f}\".format(result))\n"
   ]
  },
  {
   "cell_type": "code",
   "execution_count": 11,
   "id": "652acf73",
   "metadata": {},
   "outputs": [
    {
     "name": "stdout",
     "output_type": "stream",
     "text": [
      "2\n",
      "420 3\n",
      "1 1\n",
      "833.6591512746"
     ]
    },
    {
     "data": {
      "text/plain": [
       "14"
      ]
     },
     "execution_count": 11,
     "metadata": {},
     "output_type": "execute_result"
    }
   ],
   "source": [
    "import sys\n",
    "EPSILON = 1e-7\n",
    "\n",
    "\n",
    "def calculate_score(n, compartments, probabilities):\n",
    "    score = 0.0\n",
    "    for i in range(n):\n",
    "        prob_exit = probabilities[i]\n",
    "        prob_move = 1.0 - prob_exit\n",
    "\n",
    "        for j in range(n):\n",
    "            score += compartments[i][0] * prob_exit + compartments[j][1] * prob_exit * prob_move\n",
    "\n",
    "    return score\n",
    "\n",
    "\n",
    "def binary_search(n, compartments):\n",
    "    left = 0.01\n",
    "    right = 0.99\n",
    "\n",
    "    while right - left > EPSILON:\n",
    "        mid = (left + right) / 2.0\n",
    "        probabilities = [mid] * n\n",
    "\n",
    "        score = calculate_score(n, compartments, probabilities)\n",
    "\n",
    "        # Adjust the range based on the score\n",
    "        if score > 0:\n",
    "            left = mid\n",
    "        else:\n",
    "            right = mid\n",
    "\n",
    "    return calculate_score(n, compartments, [left] * n)\n",
    "\n",
    "\n",
    "# Read input\n",
    "n = int(input())\n",
    "compartments = []\n",
    "for _ in range(n):\n",
    "    ai, bi = map(int, input().split())\n",
    "    compartments.append((ai, bi))\n",
    "\n",
    "# Solve the problem using binary search\n",
    "result = binary_search(n, compartments)\n",
    "\n",
    "# Print the result\n",
    "sys.stdout.write(\"{:.10f}\".format(result))\n"
   ]
  },
  {
   "cell_type": "code",
   "execution_count": 14,
   "id": "cd1cfbad",
   "metadata": {},
   "outputs": [
    {
     "name": "stdout",
     "output_type": "stream",
     "text": [
      "3\n",
      "1 100\n",
      "1 100\n",
      "1 1\n",
      "14.8797339926"
     ]
    },
    {
     "data": {
      "text/plain": [
       "13"
      ]
     },
     "execution_count": 14,
     "metadata": {},
     "output_type": "execute_result"
    }
   ],
   "source": [
    "import sys\n",
    "EPSILON = 1e-7\n",
    "\n",
    "\n",
    "def calculate_score(n, compartments, probabilities):\n",
    "    score = 0.0\n",
    "    for i in range(n):\n",
    "        prob_exit = probabilities[i]\n",
    "        prob_move = 1.0 - prob_exit\n",
    "\n",
    "        for j in range(n):\n",
    "            score += compartments[i][0] * prob_exit + compartments[j][1] * prob_exit * prob_move\n",
    "\n",
    "    return score\n",
    "\n",
    "\n",
    "def binary_search(n, compartments):\n",
    "    left = 0.01\n",
    "    right = 0.99\n",
    "\n",
    "    while right - left > EPSILON:\n",
    "        mid = (left + right) / 2.0\n",
    "        probabilities = [mid] * n\n",
    "\n",
    "        score = calculate_score(n, compartments, probabilities)\n",
    "\n",
    "        # Adjust the range based on the score\n",
    "        if score > 0:\n",
    "            left = mid\n",
    "        else:\n",
    "            right = mid\n",
    "\n",
    "    return calculate_score(n, compartments, [left] * n)\n",
    "\n",
    "\n",
    "# Read input\n",
    "n = int(input())\n",
    "compartments = []\n",
    "for _ in range(n):\n",
    "    ai, bi = map(int, input().split())\n",
    "    compartments.append((ai, bi))\n",
    "\n",
    "# Solve the problem using binary search\n",
    "result = binary_search(n, compartments)\n",
    "\n",
    "# Print the result\n",
    "sys.stdout.write(\"{:.10f}\".format(result))\n"
   ]
  },
  {
   "cell_type": "code",
   "execution_count": null,
   "id": "4d002465",
   "metadata": {},
   "outputs": [],
   "source": []
  }
 ],
 "metadata": {
  "kernelspec": {
   "display_name": "Python 3 (ipykernel)",
   "language": "python",
   "name": "python3"
  },
  "language_info": {
   "codemirror_mode": {
    "name": "ipython",
    "version": 3
   },
   "file_extension": ".py",
   "mimetype": "text/x-python",
   "name": "python",
   "nbconvert_exporter": "python",
   "pygments_lexer": "ipython3",
   "version": "3.8.16"
  }
 },
 "nbformat": 4,
 "nbformat_minor": 5
}
